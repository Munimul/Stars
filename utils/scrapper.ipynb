{
 "cells": [
  {
   "cell_type": "code",
   "execution_count": 1,
   "id": "92759c20",
   "metadata": {},
   "outputs": [],
   "source": [
    "import urllib.request"
   ]
  },
  {
   "cell_type": "code",
   "execution_count": 2,
   "id": "5bf6374d",
   "metadata": {},
   "outputs": [],
   "source": [
    "from bs4 import BeautifulSoup"
   ]
  },
  {
   "cell_type": "code",
   "execution_count": 3,
   "id": "2511c475",
   "metadata": {},
   "outputs": [],
   "source": [
    "import pandas as pd"
   ]
  },
  {
   "cell_type": "code",
   "execution_count": 4,
   "id": "5785ffe5",
   "metadata": {},
   "outputs": [],
   "source": [
    "constFile=pd.read_csv('Constellation Names.csv')"
   ]
  },
  {
   "cell_type": "code",
   "execution_count": 5,
   "id": "11d062d7",
   "metadata": {},
   "outputs": [
    {
     "data": {
      "text/html": [
       "<div>\n",
       "<style scoped>\n",
       "    .dataframe tbody tr th:only-of-type {\n",
       "        vertical-align: middle;\n",
       "    }\n",
       "\n",
       "    .dataframe tbody tr th {\n",
       "        vertical-align: top;\n",
       "    }\n",
       "\n",
       "    .dataframe thead th {\n",
       "        text-align: right;\n",
       "    }\n",
       "</style>\n",
       "<table border=\"1\" class=\"dataframe\">\n",
       "  <thead>\n",
       "    <tr style=\"text-align: right;\">\n",
       "      <th></th>\n",
       "      <th>Name</th>\n",
       "      <th>Abbreviation</th>\n",
       "      <th>Genitive</th>\n",
       "      <th>Meaning</th>\n",
       "      <th>Brightest Star</th>\n",
       "    </tr>\n",
       "  </thead>\n",
       "  <tbody>\n",
       "    <tr>\n",
       "      <th>0</th>\n",
       "      <td>Andromeda</td>\n",
       "      <td>And</td>\n",
       "      <td>Andromedae</td>\n",
       "      <td>Princess of Ethiopia</td>\n",
       "      <td>Alpheratz</td>\n",
       "    </tr>\n",
       "    <tr>\n",
       "      <th>1</th>\n",
       "      <td>Antlia</td>\n",
       "      <td>Ant</td>\n",
       "      <td>Antilae</td>\n",
       "      <td>Air Pump</td>\n",
       "      <td>Alpha Antilae</td>\n",
       "    </tr>\n",
       "    <tr>\n",
       "      <th>2</th>\n",
       "      <td>Apus</td>\n",
       "      <td>Aps</td>\n",
       "      <td>Apodis</td>\n",
       "      <td>Bird of Paradise</td>\n",
       "      <td>Alpha Apodis</td>\n",
       "    </tr>\n",
       "    <tr>\n",
       "      <th>3</th>\n",
       "      <td>Aquarius</td>\n",
       "      <td>Aqr</td>\n",
       "      <td>Aquarii</td>\n",
       "      <td>Water-bearer</td>\n",
       "      <td>Sadalsuud</td>\n",
       "    </tr>\n",
       "    <tr>\n",
       "      <th>4</th>\n",
       "      <td>Aquila</td>\n",
       "      <td>Aql</td>\n",
       "      <td>Aquilae</td>\n",
       "      <td>The Eagle</td>\n",
       "      <td>Altair</td>\n",
       "    </tr>\n",
       "  </tbody>\n",
       "</table>\n",
       "</div>"
      ],
      "text/plain": [
       "        Name Abbreviation    Genitive               Meaning Brightest Star\n",
       "0  Andromeda          And  Andromedae  Princess of Ethiopia      Alpheratz\n",
       "1     Antlia          Ant     Antilae              Air Pump  Alpha Antilae\n",
       "2       Apus          Aps      Apodis      Bird of Paradise   Alpha Apodis\n",
       "3   Aquarius          Aqr     Aquarii          Water-bearer      Sadalsuud\n",
       "4     Aquila          Aql     Aquilae             The Eagle         Altair"
      ]
     },
     "execution_count": 5,
     "metadata": {},
     "output_type": "execute_result"
    }
   ],
   "source": [
    "constFile.head()"
   ]
  },
  {
   "cell_type": "code",
   "execution_count": 6,
   "id": "15cd898b",
   "metadata": {},
   "outputs": [
    {
     "data": {
      "text/plain": [
       "0      Andromeda\n",
       "1         Antlia\n",
       "2           Apus\n",
       "3       Aquarius\n",
       "4         Aquila\n",
       "         ...    \n",
       "83    Ursa Minor\n",
       "84          Vela\n",
       "85         Virgo\n",
       "86        Volans\n",
       "87     Vulpecula\n",
       "Name: Name, Length: 88, dtype: object"
      ]
     },
     "execution_count": 6,
     "metadata": {},
     "output_type": "execute_result"
    }
   ],
   "source": [
    "constFile['Name']"
   ]
  },
  {
   "cell_type": "code",
   "execution_count": 7,
   "id": "4e59157b",
   "metadata": {},
   "outputs": [],
   "source": [
    "def convertName(name):\n",
    "    includesSpace= False\n",
    "    spaceIndex=0\n",
    "    for i in range(0,len(name)):\n",
    "        if(name[i]==' '):\n",
    "            includesSpace=True\n",
    "            spaceIndex=i\n",
    "    if (includesSpace):\n",
    "        return name[:spaceIndex]+'_'+name[spaceIndex+1:]\n",
    "    else:\n",
    "        return name + '_(constellation)'\n",
    "        \n",
    "    \n",
    "    "
   ]
  },
  {
   "cell_type": "code",
   "execution_count": 8,
   "id": "ac20ce52",
   "metadata": {},
   "outputs": [],
   "source": [
    "constFile['UrlName']=constFile['Name']"
   ]
  },
  {
   "cell_type": "code",
   "execution_count": 9,
   "id": "f9f3295e",
   "metadata": {},
   "outputs": [],
   "source": [
    "for i in range(0,len(constFile['Name'])):\n",
    "    constFile['UrlName'][i]=convertName(constFile['Name'][i])"
   ]
  },
  {
   "cell_type": "code",
   "execution_count": 10,
   "id": "613220ab",
   "metadata": {},
   "outputs": [
    {
     "name": "stdout",
     "output_type": "stream",
     "text": [
      "Andromeda_(constellation)\n",
      "Antlia_(constellation)\n",
      "Apus_(constellation)\n",
      "Aquarius_(constellation)\n",
      "Aquila_(constellation)\n",
      "Ara_(constellation)\n",
      "Aries_(constellation)\n",
      "Auriga_(constellation)\n",
      "Boötes_(constellation)\n",
      "Caelum_(constellation)\n",
      "Camelopardalis_(constellation)\n",
      "Cancer_(constellation)\n",
      "Canes_Venatici\n",
      "Canis_Major\n",
      "Canis_Minor\n",
      "Capricornus_(constellation)\n",
      "Carina_(constellation)\n",
      "Cassiopeia_(constellation)\n",
      "Centaurus_(constellation)\n",
      "Cepheus_(constellation)\n",
      "Cetus_(constellation)\n",
      "Chamaeleon_(constellation)\n",
      "Circinus_(constellation)\n",
      "Columba_(constellation)\n",
      "Coma_Berenices\n",
      "Corona_Australis\n",
      "Corona_Borealis\n",
      "Corvus_(constellation)\n",
      "Crater_(constellation)\n",
      "Crux_(constellation)\n",
      "Cygnus_(constellation)\n",
      "Delphinus_(constellation)\n",
      "Dorado_(constellation)\n",
      "Draco_(constellation)\n",
      "Equuleus_(constellation)\n",
      "Eridanus_(constellation)\n",
      "Fornax_(constellation)\n",
      "Gemini_(constellation)\n",
      "Grus_(constellation)\n",
      "Hercules_(constellation)\n",
      "Horologium_(constellation)\n",
      "Hydra_(constellation)\n",
      "Hydrus_(constellation)\n",
      "Indus_(constellation)\n",
      "Lacerta_(constellation)\n",
      "Leo_(constellation)\n",
      "Leo_Minor\n",
      "Lepus_(constellation)\n",
      "Libra_(constellation)\n",
      "Lupus_(constellation)\n",
      "Lynx_(constellation)\n",
      "Lyra_(constellation)\n",
      "Mensa_(constellation)\n",
      "Microscopium_(constellation)\n",
      "Monoceros_(constellation)\n",
      "Musca_(constellation)\n",
      "Norma_(constellation)\n",
      "Octans_(constellation)\n",
      "Ophiucus_(constellation)\n",
      "Orion_(constellation)\n",
      "Pavo_(constellation)\n",
      "Pegasus_(constellation)\n",
      "Perseus_(constellation)\n",
      "Phoenix_(constellation)\n",
      "Pictor_(constellation)\n",
      "Pisces_(constellation)\n",
      "Piscis_Austrinus\n",
      "Puppis_(constellation)\n",
      "Pyxis_(constellation)\n",
      "Reticulum_(constellation)\n",
      "Sagitta_(constellation)\n",
      "Sagittarius_(constellation)\n",
      "Scorpius_(constellation)\n",
      "Sculptor_(constellation)\n",
      "Scutum_(constellation)\n",
      "Serpens_(constellation)\n",
      "Sextans_(constellation)\n",
      "Taurus_(constellation)\n",
      "Telescopium_(constellation)\n",
      "Triangulum_(constellation)\n",
      "Triangulum_Australe\n",
      "Tucana_(constellation)\n",
      "Ursa_Major\n",
      "Ursa_Minor\n",
      "Vela_(constellation)\n",
      "Virgo_(constellation)\n",
      "Volans_(constellation)\n",
      "Vulpecula_(constellation)\n"
     ]
    }
   ],
   "source": [
    "for i in constFile['UrlName']:\n",
    "    print(i)"
   ]
  },
  {
   "cell_type": "code",
   "execution_count": 11,
   "id": "34aae7c7",
   "metadata": {},
   "outputs": [],
   "source": [
    "# For Boötes_(constellation) there is an exception as 'ascii' codec can't encode character ö\n",
    "\n",
    "constFile['UrlName'][8]='Bootes'\n",
    "constFile['UrlName'][58]='Ophiucus'"
   ]
  },
  {
   "cell_type": "code",
   "execution_count": 12,
   "id": "ad1d5d8e",
   "metadata": {},
   "outputs": [],
   "source": [
    "request_body=\"https://en.wikipedia.org/wiki/\""
   ]
  },
  {
   "cell_type": "code",
   "execution_count": 13,
   "id": "86829d3c",
   "metadata": {},
   "outputs": [],
   "source": [
    "# function for printing first two paragraphs of all constellations\n",
    "\n",
    "def jsonObjectCreate():\n",
    "    jsonlist=[]\n",
    "    for i in range(0,len(constFile['UrlName'])):\n",
    "        searchUrl=request_body+constFile['UrlName'][i]\n",
    "        request_result=urllib.request.urlopen(searchUrl)\n",
    "        page=BeautifulSoup(request_result, 'html.parser')\n",
    "\n",
    "        id =i\n",
    "        name=constFile['Name'][i]\n",
    "        englishName=constFile['Meaning'][i]\n",
    "        brightestStar=constFile['Brightest Star'][i]\n",
    "        paragraph0=page.find_all('p')[0].getText()\n",
    "        paragraph1=page.find_all('p')[1].getText()\n",
    "        paragraph2=page.find_all('p')[2].getText()\n",
    "\n",
    "        dic={\n",
    "            'id':id,\n",
    "            'name':name,\n",
    "            'englishName':englishName,\n",
    "            'brightestStar':brightestStar,\n",
    "            'paragraph0':paragraph0,\n",
    "            'paragraph1':paragraph1,\n",
    "            'paragraph2':paragraph2,\n",
    "            'url':searchUrl\n",
    "            }\n",
    "        jsonlist.append(dic)\n",
    "    return jsonlist\n",
    "\n",
    "        \n",
    "        \n",
    "        \n"
   ]
  },
  {
   "cell_type": "code",
   "execution_count": 14,
   "id": "25867cf0",
   "metadata": {},
   "outputs": [],
   "source": [
    "jsonList=jsonObjectCreate()\n"
   ]
  },
  {
   "cell_type": "code",
   "execution_count": 15,
   "id": "4989fcfe",
   "metadata": {},
   "outputs": [],
   "source": [
    "import json"
   ]
  },
  {
   "cell_type": "code",
   "execution_count": 16,
   "id": "27845f22",
   "metadata": {},
   "outputs": [],
   "source": [
    "json_object=json.dumps(jsonList, indent=4)\n",
    "\n",
    "with open(\"sample.json\", \"w\") as outfile:\n",
    "    outfile.write(json_object)"
   ]
  },
  {
   "cell_type": "code",
   "execution_count": null,
   "id": "3dbed264",
   "metadata": {},
   "outputs": [],
   "source": []
  }
 ],
 "metadata": {
  "kernelspec": {
   "display_name": "Python 3 (ipykernel)",
   "language": "python",
   "name": "python3"
  },
  "language_info": {
   "codemirror_mode": {
    "name": "ipython",
    "version": 3
   },
   "file_extension": ".py",
   "mimetype": "text/x-python",
   "name": "python",
   "nbconvert_exporter": "python",
   "pygments_lexer": "ipython3",
   "version": "3.10.9"
  }
 },
 "nbformat": 4,
 "nbformat_minor": 5
}
